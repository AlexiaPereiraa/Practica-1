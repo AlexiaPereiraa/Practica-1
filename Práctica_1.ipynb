{
 "cells": [
  {
   "metadata": {},
   "cell_type": "markdown",
   "source": [
    "# This is a sample Jupyter Notebook\n",
    "\n",
    "Below is an example of a code cell. \n",
    "Put your cursor into the cell and press Shift+Enter to execute it and select the next one, or click 'Run Cell' button.\n",
    "\n",
    "Press Double Shift to search everywhere for classes, files, tool windows, actions, and settings.\n",
    "\n",
    "To learn more about Jupyter Notebooks in PyCharm, see [help](https://www.jetbrains.com/help/pycharm/ipython-notebook-support.html).\n",
    "For an overview of PyCharm, go to Help -> Learn IDE features or refer to [our documentation](https://www.jetbrains.com/help/pycharm/getting-started.html)."
   ],
   "id": "8a77807f92f26ee"
  },
  {
   "metadata": {
    "jupyter": {
     "is_executing": true
    }
   },
   "cell_type": "code",
   "source": [
    "import requests \n",
    "import json \n",
    "\n",
    "fechas = [\"01-01-2024\",\"01-07-2024\"]\n",
    "lista=[]\n",
    "for fecha in fechas:\n",
    "    url = f\"https://api.coingecko.com/api/v3/coins/bitcoin/history?date={fecha}\"\n",
    "    print(url)\n",
    "    response = requests.get(url) \n",
    "    print(response)\n",
    "    data= response.json() \n",
    "    usd=data[\"market_data\"][\"current_price\"][\"usd\"]\n",
    "    eur=data[\"market_data\"][\"current_price\"][\"eur\"]\n",
    "    datos={\"usd\":usd,\"eur\":eur}\n",
    "    lista.append(datos)\n",
    "    print(usd, eur)\n",
    "print(lista)"
   ],
   "id": "50b2dee4f3cdbca0",
   "outputs": [],
   "execution_count": null
  },
  {
   "metadata": {},
   "cell_type": "code",
   "outputs": [],
   "execution_count": null,
   "source": "",
   "id": "4e16dfa4d52583e8"
  },
  {
   "metadata": {
    "ExecuteTime": {
     "end_time": "2024-10-19T19:57:26.779638Z",
     "start_time": "2024-10-19T19:57:26.766585Z"
    }
   },
   "cell_type": "code",
   "source": [
    "with open(\"./data/bitcoin_historical_data.json.\",\"w\") as out_file: \n",
    "     json.dump(lista, out_file, indent=4) \n",
    "     "
   ],
   "id": "e224341e2f9debf8",
   "outputs": [],
   "execution_count": 227
  },
  {
   "metadata": {},
   "cell_type": "markdown",
   "source": " ",
   "id": "d42e374bd2977be6"
  },
  {
   "metadata": {
    "ExecuteTime": {
     "end_time": "2024-10-19T19:52:43.576507Z",
     "start_time": "2024-10-19T19:52:43.567661Z"
    }
   },
   "cell_type": "code",
   "source": "",
   "id": "cc0b595b9b48f8fd",
   "outputs": [],
   "execution_count": null
  },
  {
   "metadata": {
    "ExecuteTime": {
     "end_time": "2024-10-19T19:52:43.600503Z",
     "start_time": "2024-10-19T19:52:43.589542Z"
    }
   },
   "cell_type": "code",
   "source": "",
   "id": "adb4bf36ec3878ba",
   "outputs": [],
   "execution_count": null
  },
  {
   "metadata": {
    "ExecuteTime": {
     "end_time": "2024-10-19T19:52:43.623568Z",
     "start_time": "2024-10-19T19:52:43.619189Z"
    }
   },
   "cell_type": "code",
   "source": "",
   "id": "d83a44ebba11ce20",
   "outputs": [],
   "execution_count": null
  }
 ],
 "metadata": {
  "kernelspec": {
   "display_name": "Python 3",
   "language": "python",
   "name": "python3"
  },
  "language_info": {
   "codemirror_mode": {
    "name": "ipython",
    "version": 2
   },
   "file_extension": ".py",
   "mimetype": "text/x-python",
   "name": "python",
   "nbconvert_exporter": "python",
   "pygments_lexer": "ipython2",
   "version": "2.7.6"
  }
 },
 "nbformat": 4,
 "nbformat_minor": 5
}
